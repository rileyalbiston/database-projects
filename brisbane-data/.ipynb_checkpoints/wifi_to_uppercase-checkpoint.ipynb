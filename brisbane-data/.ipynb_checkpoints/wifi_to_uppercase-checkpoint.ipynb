{
 "cells": [
  {
   "cell_type": "code",
   "execution_count": 601,
   "metadata": {},
   "outputs": [
    {
     "data": {
      "text/plain": [
       "[OrderedDict([('Wifi Hotspot Name', 'Annerley Library Wifi'),\n",
       "              ('Address', '450 Ipswich Road'),\n",
       "              ('Suburb', 'Annerley'),\n",
       "              ('Latitude', '-27.50942285'),\n",
       "              ('Longitude', '153.0333218'),\n",
       "              ('Site', 'Library')]),\n",
       " OrderedDict([('Wifi Hotspot Name', 'Ashgrove Library Wifi'),\n",
       "              ('Address', '87 Amarina Avenue'),\n",
       "              ('Suburb', 'Ashgrove'),\n",
       "              ('Latitude', '-27.44394629'),\n",
       "              ('Longitude', '152.9870981'),\n",
       "              ('Site', 'Library')])]"
      ]
     },
     "execution_count": 601,
     "metadata": {},
     "output_type": "execute_result"
    }
   ],
   "source": [
    "import csv\n",
    "\n",
    "file = open('publicwi-fi20180417-1.csv')\n",
    "file_content = list(csv.DictReader(file))\n",
    "file_content[:2]"
   ]
  },
  {
   "cell_type": "code",
   "execution_count": 602,
   "metadata": {},
   "outputs": [
    {
     "data": {
      "text/plain": [
       "[OrderedDict([('Wifi Hotspot Name', 'Stones Corner Library Wifi'),\n",
       "              ('Address', '280 Logan Road'),\n",
       "              ('Suburb', 'GREENSLOPES'),\n",
       "              ('Latitude', '-27.49803575'),\n",
       "              ('Longitude', '153.043655'),\n",
       "              ('Site', 'Library')]),\n",
       " OrderedDict([('Wifi Hotspot Name', 'Sunnybank Hills Library Wifi'),\n",
       "              ('Address',\n",
       "               'Sunnybank Hills Shopping Centre, Corner Compton and Calam Roads'),\n",
       "              ('Suburb', 'SUNNYBANK HILLS'),\n",
       "              ('Latitude', '-27.6109253'),\n",
       "              ('Longitude', '153.0550706'),\n",
       "              ('Site', 'Library')]),\n",
       " OrderedDict([('Wifi Hotspot Name', 'Toowong Library Wifi'),\n",
       "              ('Address', 'Toowon Village Shopping Centre, Sherwood Road'),\n",
       "              ('Suburb', 'TOOWONG'),\n",
       "              ('Latitude', '-27.48505116'),\n",
       "              ('Longitude', '152.9925091'),\n",
       "              ('Site', 'Library')]),\n",
       " OrderedDict([('Wifi Hotspot Name', 'West End Library Wifi'),\n",
       "              ('Address', '178 - 180 Boundary Street'),\n",
       "              ('Suburb', 'WEST END'),\n",
       "              ('Latitude', '-27.48245078'),\n",
       "              ('Longitude', '153.0120763'),\n",
       "              ('Site', 'Library')]),\n",
       " OrderedDict([('Wifi Hotspot Name', 'Wynnum Library Wifi'),\n",
       "              ('Address', '145 Florence St'),\n",
       "              ('Suburb', 'WYNNUM'),\n",
       "              ('Latitude', '-27.444938'),\n",
       "              ('Longitude', '153.171646'),\n",
       "              ('Site', 'Library')]),\n",
       " OrderedDict([('Wifi Hotspot Name', 'Zillmere Library Wifi'),\n",
       "              ('Address', 'Corner Jennings Street and Zillmere Road'),\n",
       "              ('Suburb', 'ZILLMERE'),\n",
       "              ('Latitude', '-27.36014232'),\n",
       "              ('Longitude', '153.0407898'),\n",
       "              ('Site', 'Library')])]"
      ]
     },
     "execution_count": 602,
     "metadata": {},
     "output_type": "execute_result"
    }
   ],
   "source": [
    "len(file_content)\n",
    "\n",
    "counter = 1\n",
    "for i in range(len(file_content)):\n",
    "    file_content[i]['Suburb'] = file_content[i]['Suburb'].upper()\n",
    "    \n",
    "    \n",
    "file_content[295:320]"
   ]
  },
  {
   "cell_type": "code",
   "execution_count": 603,
   "metadata": {},
   "outputs": [],
   "source": [
    "with open('wifi_upper_suburb.csv', 'w') as csvfile:\n",
    "    header_names = ['Wifi Hotspot Name', 'Address', 'Suburb' , 'Latitude', 'Longitude', 'Site']\n",
    "    wr = csv.DictWriter(csvfile, fieldnames=header_names, lineterminator='\\n')\n",
    "    \n",
    "    wr.writeheader()\n",
    "    for value in file_content:\n",
    "        wr.writerow({'Wifi Hotspot Name' : value['Wifi Hotspot Name'], 'Address' : value['Address'], 'Suburb' : value['Suburb'], 'Latitude' : value['Latitude'], 'Longitude' : value['Longitude'], 'Site' : value['Site']})"
   ]
  },
  {
   "cell_type": "code",
   "execution_count": null,
   "metadata": {},
   "outputs": [],
   "source": []
  }
 ],
 "metadata": {
  "kernelspec": {
   "display_name": "Python 3",
   "language": "python",
   "name": "python3"
  },
  "language_info": {
   "codemirror_mode": {
    "name": "ipython",
    "version": 3
   },
   "file_extension": ".py",
   "mimetype": "text/x-python",
   "name": "python",
   "nbconvert_exporter": "python",
   "pygments_lexer": "ipython3",
   "version": "3.6.3"
  }
 },
 "nbformat": 4,
 "nbformat_minor": 2
}
