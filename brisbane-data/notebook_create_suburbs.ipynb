{
 "cells": [
  {
   "cell_type": "code",
   "execution_count": 502,
   "metadata": {},
   "outputs": [],
   "source": [
    "import csv\n",
    "\n",
    "#file = open('adjacentsuburbs20171108.csv')\n",
    "#file_content = list(csv.DictReader(file))\n",
    "#file_content[:2]"
   ]
  },
  {
   "cell_type": "code",
   "execution_count": 503,
   "metadata": {},
   "outputs": [
    {
     "name": "stdout",
     "output_type": "stream",
     "text": [
      "['SUBURB', 'ACACIA RIDGE', 'ACACIA RIDGE', 'ACACIA RIDGE', 'ACACIA RIDGE', 'ACACIA RIDGE']\n",
      "['ACACIA RIDGE', 'ACACIA RIDGE', 'ACACIA RIDGE', 'ACACIA RIDGE', 'ACACIA RIDGE', 'ACACIA RIDGE']\n"
     ]
    }
   ],
   "source": [
    "import pandas\n",
    "\n",
    "# Create a list containing the column names from the csv file.\n",
    "colnames = ['SUBURB', 'Adjoining_SUBURB']\n",
    "# read csv file using pandas module.\n",
    "data = pandas.read_csv('adjacentsuburbs20171108.csv', names=colnames)\n",
    "\n",
    "# create list from cotaining everything is the 'SUBURB' column, including header.\n",
    "suburb = data.SUBURB.tolist()\n",
    "\n",
    "print(suburb[0:6])\n",
    "\n",
    "# slice list to remove the header row.\n",
    "suburb = suburb[1:]\n",
    "\n",
    "print(suburb[0:6])"
   ]
  },
  {
   "cell_type": "code",
   "execution_count": 504,
   "metadata": {},
   "outputs": [
    {
     "name": "stdout",
     "output_type": "stream",
     "text": [
      "<class 'set'>\n",
      "<class 'list'>\n",
      "['ACACIA RIDGE', 'ALBION', 'ALDERLEY', 'ALGESTER', 'ANNERLEY', 'ANSTEAD', 'ARCHERFIELD', 'ASCOT', 'ASHGROVE', 'ASPLEY', 'AUCHENFLOWER', 'BALD HILLS', 'BALMORAL', 'BANKS CREEK', 'BANYO', 'BARDON', 'BELLBOWRIE', 'BELMONT', 'BOONDALL', 'BOWEN HILLS', 'BRACKEN RIDGE', 'BRIDGEMAN DOWNS', 'BRIGHTON', 'BRISBANE AIRPORT', 'BRISBANE CITY', 'BROOKFIELD', 'BULIMBA', 'BULWER', 'BURBANK', 'CALAMVALE', 'CAMP HILL', 'CANNON HILL', 'CARINA', 'CARINA HEIGHTS', 'CARINDALE', 'CARSELDINE', 'CHANDLER', 'CHAPEL HILL', 'CHELMER', 'CHERMSIDE', 'CHERMSIDE WEST', 'CHUWAR', 'CLAYFIELD', 'COOPERS PLAINS', 'COORPAROO', 'CORINDA', 'COWAN COWAN', 'DARRA', 'DEAGON', 'DOOLANDELLA', 'DREWVALE', 'DURACK', 'DUTTON PARK', 'EAGLE FARM', 'EAST BRISBANE', 'EIGHT MILE PLAINS', 'ELLEN GROVE', 'ENGLAND CREEK', 'ENOGGERA', 'ENOGGERA RESERVOIR', 'EVERTON PARK', 'FAIRFIELD', 'FERNY GROVE', 'FIG TREE POCKET', 'FITZGIBBON', 'FOREST LAKE', 'FORTITUDE VALLEY', 'GAYTHORNE', 'GEEBUNG', 'GORDON PARK', 'GRACEVILLE', 'GRANGE', 'GREENSLOPES', 'GUMDALE', 'HAMILTON', 'HAWTHORNE', 'HEATHWOOD', 'HEMMANT', 'HENDRA', 'HERSTON', 'HIGHGATE HILL', 'HOLLAND PARK', 'HOLLAND PARK WEST', 'INALA', 'INDOOROOPILLY', 'JAMBOREE HEIGHTS', 'JINDALEE', 'KALINGA', 'KANGAROO POINT', 'KARANA DOWNS', 'KARAWATHA', 'KEDRON', 'KELVIN GROVE', 'KENMORE', 'KENMORE HILLS', 'KEPERRA', 'KHOLO', 'KOORINGAL', 'KURABY', 'LAKE MANCHESTER', 'LARAPINTA', 'LOTA', 'LUTWYCHE', 'LYTTON', 'MACGREGOR', 'MACKENZIE', 'MANLY', 'MANLY WEST', 'MANSFIELD', 'MCDOWALL', 'MIDDLE PARK', 'MILTON', 'MITCHELTON', 'MOGGILL', 'MOOROOKA', 'MORETON ISLAND', 'MORNINGSIDE', 'MOUNT COOT-THA', 'MOUNT CROSBY', 'MOUNT GRAVATT', 'MOUNT GRAVATT EAST', 'MOUNT OMMANEY', 'MURARRIE', 'NATHAN', 'NEW FARM', 'NEWMARKET', 'NEWSTEAD', 'NORMAN PARK', 'NORTHGATE', 'NUDGEE', 'NUDGEE BEACH', 'NUNDAH', 'OXLEY', 'PADDINGTON', 'PALLARA', 'PARKINSON', 'PETRIE TERRACE', 'PINJARRA HILLS', 'PINKENBA', 'PORT OF BRISBANE', 'PULLENVALE', 'RANSOME', 'RED HILL', 'RICHLANDS', 'RIVERHILLS', 'ROBERTSON', 'ROCHEDALE', 'ROCKLEA', 'RUNCORN', 'SALISBURY', 'SANDGATE', 'SEVEN HILLS', 'SEVENTEEN MILE ROCKS', 'SHERWOOD', 'SHORNCLIFFE', 'SINNAMON PARK', 'SOUTH BRISBANE', 'SPRING HILL', 'ST LUCIA', 'STAFFORD', 'STAFFORD HEIGHTS', 'STONES CORNER', 'STRETTON', 'SUMNER', 'SUNNYBANK', 'SUNNYBANK HILLS', 'TAIGUM', 'TARINGA', 'TARRAGINDI', 'TENERIFFE', 'TENNYSON', 'THE GAP', 'TINGALPA', 'TOOWONG', 'UPPER BROOKFIELD', 'UPPER KEDRON', 'UPPER MOUNT GRAVATT', 'VIRGINIA', 'WACOL', 'WAKERLEY', 'WAVELL HEIGHTS', 'WEST END', 'WESTLAKE', 'WILLAWONG', 'WILSTON', 'WINDSOR', 'WISHART', 'WOOLLOONGABBA', 'WOOLOOWIN', 'WYNNUM', 'WYNNUM WEST', 'YEERONGPILLY', 'YERONGA', 'ZILLMERE']\n"
     ]
    }
   ],
   "source": [
    "# the following line demonstrates creating a set. The following code also does this and \n",
    "# creates a turns it into a list data type in one go.\n",
    "print(type(set(suburb)))\n",
    "\n",
    "# Use 'set' function to remove duplicates, and the 'sorted' function to \n",
    "# get alphabetical order, this also turns the variable back into a list.\n",
    "suburb_set = sorted(set(suburb))\n",
    "\n",
    "#suburb_set = set(suburb)\n",
    "\n",
    "print(type(suburb_set))\n",
    "print(suburb_set)"
   ]
  },
  {
   "cell_type": "code",
   "execution_count": 505,
   "metadata": {},
   "outputs": [],
   "source": [
    "suburb_list = list(suburb_set)\n",
    "\n",
    "\n",
    "with open('test.csv', 'w') as csvfile:\n",
    "    wr = csv.writer(csvfile,  )\n",
    "    wr.writerow(['suburb '])\n",
    "    for item in suburb_list:\n",
    "        wr.writerow([item])\n",
    "\n",
    "csvfile.close()"
   ]
  },
  {
   "cell_type": "code",
   "execution_count": null,
   "metadata": {},
   "outputs": [],
   "source": []
  }
 ],
 "metadata": {
  "kernelspec": {
   "display_name": "Python 3",
   "language": "python",
   "name": "python3"
  },
  "language_info": {
   "codemirror_mode": {
    "name": "ipython",
    "version": 3
   },
   "file_extension": ".py",
   "mimetype": "text/x-python",
   "name": "python",
   "nbconvert_exporter": "python",
   "pygments_lexer": "ipython3",
   "version": "3.6.3"
  }
 },
 "nbformat": 4,
 "nbformat_minor": 2
}
